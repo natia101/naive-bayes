{
    "cells": [
        {
            "cell_type": "code",
            "execution_count": 3,
            "metadata": {},
            "outputs": [
                {
                    "name": "stdout",
                    "output_type": "stream",
                    "text": [
                        "Requirement already satisfied: pandas in /workspace/.pyenv_mirror/user/current/lib/python3.8/site-packages (1.5.0)\n",
                        "Requirement already satisfied: python-dateutil>=2.8.1 in /home/gitpod/.pyenv/versions/3.8.13/lib/python3.8/site-packages (from pandas) (2.8.2)\n",
                        "Requirement already satisfied: numpy>=1.20.3 in /workspace/.pyenv_mirror/user/current/lib/python3.8/site-packages (from pandas) (1.23.3)\n",
                        "Requirement already satisfied: pytz>=2020.1 in /workspace/.pyenv_mirror/user/current/lib/python3.8/site-packages (from pandas) (2022.2.1)\n",
                        "Requirement already satisfied: six>=1.5 in /home/gitpod/.pyenv/versions/3.8.13/lib/python3.8/site-packages (from python-dateutil>=2.8.1->pandas) (1.16.0)\n",
                        "Requirement already satisfied: numpy in /workspace/.pyenv_mirror/user/current/lib/python3.8/site-packages (1.23.3)\n",
                        "Collecting sklearn\n",
                        "  Downloading sklearn-0.0.tar.gz (1.1 kB)\n",
                        "  Preparing metadata (setup.py) ... \u001b[?25ldone\n",
                        "\u001b[?25hRequirement already satisfied: scikit-learn in /workspace/.pyenv_mirror/user/current/lib/python3.8/site-packages (from sklearn) (1.1.2)\n",
                        "Requirement already satisfied: numpy>=1.17.3 in /workspace/.pyenv_mirror/user/current/lib/python3.8/site-packages (from scikit-learn->sklearn) (1.23.3)\n",
                        "Requirement already satisfied: scipy>=1.3.2 in /workspace/.pyenv_mirror/user/current/lib/python3.8/site-packages (from scikit-learn->sklearn) (1.9.1)\n",
                        "Requirement already satisfied: threadpoolctl>=2.0.0 in /workspace/.pyenv_mirror/user/current/lib/python3.8/site-packages (from scikit-learn->sklearn) (3.1.0)\n",
                        "Requirement already satisfied: joblib>=1.0.0 in /workspace/.pyenv_mirror/user/current/lib/python3.8/site-packages (from scikit-learn->sklearn) (1.2.0)\n",
                        "Building wheels for collected packages: sklearn\n",
                        "  Building wheel for sklearn (setup.py) ... \u001b[?25ldone\n",
                        "\u001b[?25h  Created wheel for sklearn: filename=sklearn-0.0-py2.py3-none-any.whl size=1304 sha256=d8b4e96bac58d334fab985e38a874ea6a2a9925964f7a1a12f27f2348074035f\n",
                        "  Stored in directory: /workspace/.pyenv_mirror/pip_cache/wheels/22/0b/40/fd3f795caaa1fb4c6cb738bc1f56100be1e57da95849bfc897\n",
                        "Successfully built sklearn\n",
                        "Installing collected packages: sklearn\n",
                        "Successfully installed sklearn-0.0\n"
                    ]
                }
            ],
            "source": [
                "!pip install pandas\n",
                "!pip install numpy\n",
                "!pip install sklearn"
            ]
        },
        {
            "cell_type": "code",
            "execution_count": 1,
            "metadata": {},
            "outputs": [],
            "source": [
                "import pandas as pd\n",
                "import numpy as np\n",
                "import unicodedata\n",
                "import re\n",
                "from sklearn.model_selection import train_test_split\n",
                "from sklearn.feature_extraction.text import CountVectorizer\n",
                "from sklearn.naive_bayes import MultinomialNB # cuando es texto se usa la multinomial\n",
                "from sklearn.metrics import confusion_matrix\n",
                "from sklearn.metrics import ConfusionMatrixDisplay\n",
                "from sklearn.metrics import classification_report"
            ]
        },
        {
            "cell_type": "code",
            "execution_count": 5,
            "metadata": {},
            "outputs": [],
            "source": [
                "url='https://raw.githubusercontent.com/4GeeksAcademy/naive-bayes-project-tutorial/main/playstore_reviews_dataset.csv'\n",
                "df = pd.read_csv(url)"
            ]
        },
        {
            "cell_type": "code",
            "execution_count": 6,
            "metadata": {},
            "outputs": [
                {
                    "name": "stdout",
                    "output_type": "stream",
                    "text": [
                        "<class 'pandas.core.frame.DataFrame'>\n",
                        "RangeIndex: 891 entries, 0 to 890\n",
                        "Data columns (total 3 columns):\n",
                        " #   Column        Non-Null Count  Dtype \n",
                        "---  ------        --------------  ----- \n",
                        " 0   package_name  891 non-null    object\n",
                        " 1   review        891 non-null    object\n",
                        " 2   polarity      891 non-null    int64 \n",
                        "dtypes: int64(1), object(2)\n",
                        "memory usage: 21.0+ KB\n"
                    ]
                }
            ],
            "source": [
                "df.info()"
            ]
        },
        {
            "cell_type": "code",
            "execution_count": 7,
            "metadata": {},
            "outputs": [
                {
                    "data": {
                        "text/html": [
                            "<div>\n",
                            "<style scoped>\n",
                            "    .dataframe tbody tr th:only-of-type {\n",
                            "        vertical-align: middle;\n",
                            "    }\n",
                            "\n",
                            "    .dataframe tbody tr th {\n",
                            "        vertical-align: top;\n",
                            "    }\n",
                            "\n",
                            "    .dataframe thead th {\n",
                            "        text-align: right;\n",
                            "    }\n",
                            "</style>\n",
                            "<table border=\"1\" class=\"dataframe\">\n",
                            "  <thead>\n",
                            "    <tr style=\"text-align: right;\">\n",
                            "      <th></th>\n",
                            "      <th>package_name</th>\n",
                            "      <th>review</th>\n",
                            "      <th>polarity</th>\n",
                            "    </tr>\n",
                            "  </thead>\n",
                            "  <tbody>\n",
                            "    <tr>\n",
                            "      <th>551</th>\n",
                            "      <td>com.dropbox.android</td>\n",
                            "      <td>very good aap i can delete my importent picks...</td>\n",
                            "      <td>1</td>\n",
                            "    </tr>\n",
                            "    <tr>\n",
                            "      <th>496</th>\n",
                            "      <td>com.Slack</td>\n",
                            "      <td>everyone loves slack. count me among them</td>\n",
                            "      <td>1</td>\n",
                            "    </tr>\n",
                            "    <tr>\n",
                            "      <th>609</th>\n",
                            "      <td>com.evernote</td>\n",
                            "      <td>very good, esp with penultimate i really like...</td>\n",
                            "      <td>1</td>\n",
                            "    </tr>\n",
                            "    <tr>\n",
                            "      <th>59</th>\n",
                            "      <td>com.twitter.android</td>\n",
                            "      <td>good ui ux and helpful in governance looking ...</td>\n",
                            "      <td>0</td>\n",
                            "    </tr>\n",
                            "    <tr>\n",
                            "      <th>742</th>\n",
                            "      <td>com.shirantech.kantipur</td>\n",
                            "      <td>takes longer time plz make d newspaper downlo...</td>\n",
                            "      <td>0</td>\n",
                            "    </tr>\n",
                            "    <tr>\n",
                            "      <th>443</th>\n",
                            "      <td>com.whatsapp</td>\n",
                            "      <td>few ui updates 1. group should be included wi...</td>\n",
                            "      <td>0</td>\n",
                            "    </tr>\n",
                            "    <tr>\n",
                            "      <th>673</th>\n",
                            "      <td>com.hamrokeyboard</td>\n",
                            "      <td>excellent ŕ¤§ŕľŕ¤°ŕľ ŕ¤¸ŕ¤žŕ¤˛ ŕ¤şŕ¤ŕ¤ż ŕ¤...</td>\n",
                            "      <td>1</td>\n",
                            "    </tr>\n",
                            "    <tr>\n",
                            "      <th>596</th>\n",
                            "      <td>com.evernote</td>\n",
                            "      <td>great application, but the premium notificat...</td>\n",
                            "      <td>0</td>\n",
                            "    </tr>\n",
                            "    <tr>\n",
                            "      <th>240</th>\n",
                            "      <td>com.android.chrome</td>\n",
                            "      <td>favorite menu update is suboptimal the new up...</td>\n",
                            "      <td>0</td>\n",
                            "    </tr>\n",
                            "    <tr>\n",
                            "      <th>183</th>\n",
                            "      <td>com.imangi.templerun2</td>\n",
                            "      <td>would rate 5 but since the new update every ...</td>\n",
                            "      <td>0</td>\n",
                            "    </tr>\n",
                            "  </tbody>\n",
                            "</table>\n",
                            "</div>"
                        ],
                        "text/plain": [
                            "                package_name  \\\n",
                            "551      com.dropbox.android   \n",
                            "496                com.Slack   \n",
                            "609             com.evernote   \n",
                            "59       com.twitter.android   \n",
                            "742  com.shirantech.kantipur   \n",
                            "443             com.whatsapp   \n",
                            "673        com.hamrokeyboard   \n",
                            "596             com.evernote   \n",
                            "240       com.android.chrome   \n",
                            "183    com.imangi.templerun2   \n",
                            "\n",
                            "                                                review  polarity  \n",
                            "551   very good aap i can delete my importent picks...         1  \n",
                            "496          everyone loves slack. count me among them         1  \n",
                            "609   very good, esp with penultimate i really like...         1  \n",
                            "59    good ui ux and helpful in governance looking ...         0  \n",
                            "742   takes longer time plz make d newspaper downlo...         0  \n",
                            "443   few ui updates 1. group should be included wi...         0  \n",
                            "673   excellent ŕ¤§ŕľŕ¤°ŕľ ŕ¤¸ŕ¤žŕ¤˛ ŕ¤şŕ¤ŕ¤ż ŕ¤...         1  \n",
                            "596    great application, but the premium notificat...         0  \n",
                            "240   favorite menu update is suboptimal the new up...         0  \n",
                            "183    would rate 5 but since the new update every ...         0  "
                        ]
                    },
                    "execution_count": 7,
                    "metadata": {},
                    "output_type": "execute_result"
                }
            ],
            "source": [
                "df.sample(10)"
            ]
        },
        {
            "cell_type": "code",
            "execution_count": 8,
            "metadata": {},
            "outputs": [],
            "source": [
                "df[df.select_dtypes('object').columns]=df[df.select_dtypes('object').columns].astype('string')\n",
                "df['polarity']=df['polarity'].astype('category')\n"
            ]
        },
        {
            "cell_type": "code",
            "execution_count": 9,
            "metadata": {},
            "outputs": [],
            "source": [
                "df['review']=df['review'].str.strip() \n",
                "df['review']=df['review'].str.lower()"
            ]
        },
        {
            "cell_type": "code",
            "execution_count": 10,
            "metadata": {},
            "outputs": [],
            "source": [
                "def normalize_str(text_string):\n",
                "    if text_string is not None:\n",
                "        result=unicodedata.normalize('NFD',text_string).encode('ascii','ignore').decode()\n",
                "    else:\n",
                "        result=None \n",
                "    return result"
            ]
        },
        {
            "cell_type": "code",
            "execution_count": 11,
            "metadata": {},
            "outputs": [],
            "source": [
                "df['review']=df['review'].apply(normalize_str)\n",
                "df['review']=df['review'].str.replace('!','')\n",
                "df['review']=df['review'].str.replace(',','')\n",
                "df['review']=df['review'].str.replace('&','')\n",
                "df['review']=df['review'].str.normalize('NFKC')\n",
                "df['review']=df['review'].str.replace(r'([a-zA-Z])\\1{2,}',r'\\1',regex=True)"
            ]
        },
        {
            "cell_type": "code",
            "execution_count": 12,
            "metadata": {},
            "outputs": [
                {
                    "data": {
                        "text/html": [
                            "<div>\n",
                            "<style scoped>\n",
                            "    .dataframe tbody tr th:only-of-type {\n",
                            "        vertical-align: middle;\n",
                            "    }\n",
                            "\n",
                            "    .dataframe tbody tr th {\n",
                            "        vertical-align: top;\n",
                            "    }\n",
                            "\n",
                            "    .dataframe thead th {\n",
                            "        text-align: right;\n",
                            "    }\n",
                            "</style>\n",
                            "<table border=\"1\" class=\"dataframe\">\n",
                            "  <thead>\n",
                            "    <tr style=\"text-align: right;\">\n",
                            "      <th></th>\n",
                            "      <th>package_name</th>\n",
                            "      <th>review</th>\n",
                            "      <th>polarity</th>\n",
                            "    </tr>\n",
                            "  </thead>\n",
                            "  <tbody>\n",
                            "    <tr>\n",
                            "      <th>189</th>\n",
                            "      <td>com.imangi.templerun2</td>\n",
                            "      <td>fun diversion good game to take a quick break ...</td>\n",
                            "      <td>1</td>\n",
                            "    </tr>\n",
                            "    <tr>\n",
                            "      <th>810</th>\n",
                            "      <td>org.mozilla.firefox</td>\n",
                            "      <td>nice browser but.. there is no doubt that fire...</td>\n",
                            "      <td>1</td>\n",
                            "    </tr>\n",
                            "    <tr>\n",
                            "      <th>283</th>\n",
                            "      <td>com.tencent.mm</td>\n",
                            "      <td>server error 1-1 cannot login..server error 1-...</td>\n",
                            "      <td>0</td>\n",
                            "    </tr>\n",
                            "    <tr>\n",
                            "      <th>154</th>\n",
                            "      <td>com.king.candycrushsaga</td>\n",
                            "      <td>update does not address facebook issue sadly y...</td>\n",
                            "      <td>0</td>\n",
                            "    </tr>\n",
                            "    <tr>\n",
                            "      <th>49</th>\n",
                            "      <td>com.twitter.android</td>\n",
                            "      <td>the new update sucks i hate that they switched...</td>\n",
                            "      <td>0</td>\n",
                            "    </tr>\n",
                            "    <tr>\n",
                            "      <th>119</th>\n",
                            "      <td>com.king.candycrushsaga</td>\n",
                            "      <td>why do u do this to me ok so i can't unlock th...</td>\n",
                            "      <td>0</td>\n",
                            "    </tr>\n",
                            "    <tr>\n",
                            "      <th>207</th>\n",
                            "      <td>com.supercell.clashofclans</td>\n",
                            "      <td>want to get all 5 stars ????? reduce the amoun...</td>\n",
                            "      <td>0</td>\n",
                            "    </tr>\n",
                            "    <tr>\n",
                            "      <th>650</th>\n",
                            "      <td>com.uc.browser.en</td>\n",
                            "      <td>malayalam font overlapping malayalam fonts are...</td>\n",
                            "      <td>0</td>\n",
                            "    </tr>\n",
                            "    <tr>\n",
                            "      <th>377</th>\n",
                            "      <td>com.google.android.talk</td>\n",
                            "      <td>some issues i love this app but i have been ha...</td>\n",
                            "      <td>0</td>\n",
                            "    </tr>\n",
                            "    <tr>\n",
                            "      <th>665</th>\n",
                            "      <td>com.hamrokeyboard</td>\n",
                            "      <td>hamro keyboard it is fantastic app for mobile ...</td>\n",
                            "      <td>1</td>\n",
                            "    </tr>\n",
                            "  </tbody>\n",
                            "</table>\n",
                            "</div>"
                        ],
                        "text/plain": [
                            "                   package_name  \\\n",
                            "189       com.imangi.templerun2   \n",
                            "810         org.mozilla.firefox   \n",
                            "283              com.tencent.mm   \n",
                            "154     com.king.candycrushsaga   \n",
                            "49          com.twitter.android   \n",
                            "119     com.king.candycrushsaga   \n",
                            "207  com.supercell.clashofclans   \n",
                            "650           com.uc.browser.en   \n",
                            "377     com.google.android.talk   \n",
                            "665           com.hamrokeyboard   \n",
                            "\n",
                            "                                                review polarity  \n",
                            "189  fun diversion good game to take a quick break ...        1  \n",
                            "810  nice browser but.. there is no doubt that fire...        1  \n",
                            "283  server error 1-1 cannot login..server error 1-...        0  \n",
                            "154  update does not address facebook issue sadly y...        0  \n",
                            "49   the new update sucks i hate that they switched...        0  \n",
                            "119  why do u do this to me ok so i can't unlock th...        0  \n",
                            "207  want to get all 5 stars ????? reduce the amoun...        0  \n",
                            "650  malayalam font overlapping malayalam fonts are...        0  \n",
                            "377  some issues i love this app but i have been ha...        0  \n",
                            "665  hamro keyboard it is fantastic app for mobile ...        1  "
                        ]
                    },
                    "execution_count": 12,
                    "metadata": {},
                    "output_type": "execute_result"
                }
            ],
            "source": [
                "df.sample(10)"
            ]
        },
        {
            "cell_type": "code",
            "execution_count": 13,
            "metadata": {},
            "outputs": [
                {
                    "data": {
                        "text/plain": [
                            "package_name                                    com.hamrokeyboard\n",
                            "review          loved it rzrl app rrlrrl rrsrzrlrrl r rrsrzrlr...\n",
                            "polarity                                                        1\n",
                            "Name: 675, dtype: object"
                        ]
                    },
                    "execution_count": 13,
                    "metadata": {},
                    "output_type": "execute_result"
                }
            ],
            "source": [
                "df.iloc[675,]"
            ]
        },
        {
            "cell_type": "code",
            "execution_count": 14,
            "metadata": {},
            "outputs": [],
            "source": [
                "X=df['review']\n",
                "y=df['polarity']"
            ]
        },
        {
            "cell_type": "code",
            "execution_count": 15,
            "metadata": {},
            "outputs": [],
            "source": [
                "X_train,X_test,y_train,y_test=train_test_split(X,y,random_state=2007,stratify=y)"
            ]
        },
        {
            "cell_type": "code",
            "execution_count": 16,
            "metadata": {},
            "outputs": [],
            "source": [
                "vec=CountVectorizer(stop_words='english')"
            ]
        },
        {
            "cell_type": "code",
            "execution_count": 18,
            "metadata": {},
            "outputs": [],
            "source": [
                "X_train=vec.fit_transform(X_train).toarray()\n",
                "X_test=vec.transform(X_test).toarray()"
            ]
        },
        {
            "cell_type": "code",
            "execution_count": 19,
            "metadata": {},
            "outputs": [
                {
                    "data": {
                        "text/plain": [
                            "(668, 3142)"
                        ]
                    },
                    "execution_count": 19,
                    "metadata": {},
                    "output_type": "execute_result"
                }
            ],
            "source": [
                "X_train.shape"
            ]
        },
        {
            "cell_type": "code",
            "execution_count": 20,
            "metadata": {},
            "outputs": [
                {
                    "data": {
                        "text/plain": [
                            "array(['10', '100', '101', '11', '1186', '12', '13', '14', '14th', '15'],\n",
                            "      dtype=object)"
                        ]
                    },
                    "execution_count": 20,
                    "metadata": {},
                    "output_type": "execute_result"
                }
            ],
            "source": [
                "vec.get_feature_names_out()[:10]"
            ]
        },
        {
            "cell_type": "code",
            "execution_count": 21,
            "metadata": {},
            "outputs": [
                {
                    "name": "stdout",
                    "output_type": "stream",
                    "text": [
                        "R score 0.9580838323353293\n"
                    ]
                }
            ],
            "source": [
                "nb=MultinomialNB()\n",
                "nb.fit(X_train,y_train)\n",
                "print('R score', nb.score(X_train,y_train))"
            ]
        },
        {
            "cell_type": "code",
            "execution_count": 23,
            "metadata": {},
            "outputs": [],
            "source": [
                "y_predict=nb.predict(X_test)"
            ]
        },
        {
            "cell_type": "code",
            "execution_count": 24,
            "metadata": {},
            "outputs": [
                {
                    "name": "stdout",
                    "output_type": "stream",
                    "text": [
                        "              precision    recall  f1-score   support\n",
                        "\n",
                        "           0       0.83      0.90      0.87       146\n",
                        "           1       0.78      0.65      0.71        77\n",
                        "\n",
                        "    accuracy                           0.82       223\n",
                        "   macro avg       0.81      0.78      0.79       223\n",
                        "weighted avg       0.81      0.82      0.81       223\n",
                        "\n"
                    ]
                }
            ],
            "source": [
                "print(classification_report(y_test,y_predict))"
            ]
        },
        {
            "cell_type": "code",
            "execution_count": 26,
            "metadata": {},
            "outputs": [],
            "source": [
                "import pickle\n",
                "filename = '/workspace/naive-bayes/models/finalized_model.sav'\n",
                "pickle.dump(nb, open(filename, 'wb'))"
            ]
        }
    ],
    "metadata": {
        "kernelspec": {
            "display_name": "Python 3.8.13 64-bit ('3.8.13')",
            "language": "python",
            "name": "python3"
        },
        "language_info": {
            "codemirror_mode": {
                "name": "ipython",
                "version": 3
            },
            "file_extension": ".py",
            "mimetype": "text/x-python",
            "name": "python",
            "nbconvert_exporter": "python",
            "pygments_lexer": "ipython3",
            "version": "3.8.13"
        },
        "orig_nbformat": 4,
        "vscode": {
            "interpreter": {
                "hash": "110cc1dee26208153f2972f08a2ad52b6a56238dc66d48e87fb757ef2996db56"
            }
        }
    },
    "nbformat": 4,
    "nbformat_minor": 2
}
